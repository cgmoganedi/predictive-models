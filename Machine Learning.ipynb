{
 "cells": [
  {
   "cell_type": "markdown",
   "metadata": {},
   "source": [
    "# Classfication and Regression (decision) Trees\n",
    "## 5 Key steps\n",
    "1. Finding the Gini index and Gini score\n",
    "2. Creating a split\n",
    "3. Building the decision tree\n",
    "4. Make a prediction\n",
    "5. \"the particular case study\""
   ]
  },
  {
   "cell_type": "markdown",
   "metadata": {},
   "source": [
    "#### Split data set based on an attriblue (col) and a certain value to compare to"
   ]
  },
  {
   "cell_type": "code",
   "execution_count": 1,
   "metadata": {},
   "outputs": [],
   "source": [
    "def root_split(index, value, dataset):\n",
    "    # paramas  \n",
    "        # index: column index of the best (root) feature node\n",
    "        # value: the actual value to compare to\n",
    "        # all of the data in raw form\n",
    "    left = list()\n",
    "    right = list()\n",
    "    for row in dataset:\n",
    "        if row[index] < value:\n",
    "            left.addend(row)\n",
    "        else:\n",
    "            right.append(row)\n",
    "    return right, left"
   ]
  },
  {
   "cell_type": "markdown",
   "metadata": {},
   "source": [
    "#### Calculate the quality of the devision made"
   ]
  },
  {
   "cell_type": "code",
   "execution_count": 4,
   "metadata": {},
   "outputs": [],
   "source": [
    "def quality(groups, classes):\n",
    "    # params\n",
    "        # groups: the actual grops made with the data after split i.e left and right\n",
    "        # classes: the classes of interest\n",
    "    n_instances = float(sum([len(group) for group in groups])) #count all samples at split point\n",
    "    \n",
    "    # weighted gini sum\n",
    "    gini = 0.0\n",
    "    for group in groups:\n",
    "        size = float(len(group))\n",
    "        if size == 0:\n",
    "            continues # to avoid devison bysezion\n",
    "        score = 0.0\n",
    "        # score the group based on the score for each class\n",
    "        for class_val in classes:\n",
    "            p = [row[-1] for row in group].count(class_val)/size\n",
    "            score += p *p\n",
    "        # weight the groep score by its relatives\n",
    "        gini += (1.0 - score) * (size/n_instances)\n",
    "    return gini\n",
    "                "
   ]
  },
  {
   "cell_type": "markdown",
   "metadata": {},
   "source": [
    "#### Select the best split point for the dataset"
   ]
  },
  {
   "cell_type": "code",
   "execution_count": 11,
   "metadata": {},
   "outputs": [],
   "source": [
    "def get_split(dataset):\n",
    "    class_values = list(set(row[-1] for row in dataset)) # the class value is the last row\n",
    "    b_index, b_value, b_score, b_groups = 9999, 9999, 9999, None\n",
    "    for index in range(len(dataset[0])-1):\n",
    "        for row in dataset:\n",
    "            groups = test_split(index, row[index], dataset)\n",
    "            gini = gini_index(groups, class_values)\n",
    "            print(\"X%d < %.3f Gini=%.3f\" % ((index+1), row[index], gini))\n",
    "            if gini < b_score:\n",
    "                b_index, b_value, b_score, b_groups = index, row[index], gini, groups\n",
    "    return {'index':b_index, 'value':b_value, 'groups':b_groups}\n",
    "                "
   ]
  },
  {
   "cell_type": "code",
   "execution_count": 17,
   "metadata": {},
   "outputs": [],
   "source": [
    "import csv\n",
    "\n",
    "with open('./../pima-data.csv') as csvfile:\n",
    "    readCSV = csv.reader(csvfile, delimiter=',')\n",
    "    for row in readCSV:\n",
    "        continue\n",
    "       # print(row)"
   ]
  },
  {
   "cell_type": "code",
   "execution_count": null,
   "metadata": {},
   "outputs": [],
   "source": []
  }
 ],
 "metadata": {
  "kernelspec": {
   "display_name": "Python 3",
   "language": "python",
   "name": "python3"
  },
  "language_info": {
   "codemirror_mode": {
    "name": "ipython",
    "version": 3
   },
   "file_extension": ".py",
   "mimetype": "text/x-python",
   "name": "python",
   "nbconvert_exporter": "python",
   "pygments_lexer": "ipython3",
   "version": "3.6.4"
  }
 },
 "nbformat": 4,
 "nbformat_minor": 2
}
